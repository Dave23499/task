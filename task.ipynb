{
 "cells": [
  {
   "cell_type": "code",
   "execution_count": 1,
   "metadata": {},
   "outputs": [],
   "source": [
    "import pandas as pd\n",
    "import numpy as np\n",
    "import random as rd"
   ]
  },
  {
   "cell_type": "code",
   "execution_count": 2,
   "metadata": {},
   "outputs": [],
   "source": [
    "monday = ['GREEN', 'YELLOW', 'GREEN', 'BROWN', 'BLUE', 'PINK', 'BLUE', 'YELLOW', 'ORANGE', 'CREAM', 'ORANGE', 'RED', 'WHITE', 'BLUE', 'WHITE', 'BLUE', 'BLUE', 'BLUE', 'GREEN']\n",
    "monday_f = {}"
   ]
  },
  {
   "cell_type": "code",
   "execution_count": 3,
   "metadata": {},
   "outputs": [
    {
     "name": "stdout",
     "output_type": "stream",
     "text": [
      "{'GREEN': 3, 'YELLOW': 2, 'BROWN': 1, 'BLUE': 6, 'PINK': 1, 'ORANGE': 2, 'CREAM': 1, 'RED': 1, 'WHITE': 2}\n"
     ]
    }
   ],
   "source": [
    "for i in monday:\n",
    "    if i in monday_f:\n",
    "        monday_f[i] += 1\n",
    "    else:\n",
    "        monday_f[i] = 1\n",
    "day1 = monday_f\n",
    "print (day1)"
   ]
  },
  {
   "cell_type": "code",
   "execution_count": 4,
   "metadata": {},
   "outputs": [
    {
     "name": "stdout",
     "output_type": "stream",
     "text": [
      "{'ARSH': 1, 'BROWN': 2, 'GREEN': 1, 'BLUE': 7, 'PINK': 2, 'ORANGE': 2, 'RED': 1, 'WHITE': 3}\n"
     ]
    }
   ],
   "source": [
    "tuesday = ['ARSH', 'BROWN', 'GREEN', 'BROWN', 'BLUE', 'BLUE', 'BLUE', 'PINK', 'PINK', 'ORANGE', 'ORANGE', 'RED', 'WHITE', 'BLUE', 'WHITE', 'WHITE', 'BLUE', 'BLUE', 'BLUE']\n",
    "tuesday_f = {}\n",
    "for i in tuesday:\n",
    "    if i in tuesday_f:\n",
    "        tuesday_f[i] += 1\n",
    "    else:\n",
    "        tuesday_f[i] = 1\n",
    "day2 = tuesday_f\n",
    "print (day2)"
   ]
  },
  {
   "cell_type": "code",
   "execution_count": 5,
   "metadata": {},
   "outputs": [
    {
     "name": "stdout",
     "output_type": "stream",
     "text": [
      "{'GREEN': 2, 'YELLOW': 2, 'BROWN': 1, 'BLUE': 5, 'PINK': 1, 'RED': 3, 'ORANGE': 2, 'WHITE': 3}\n"
     ]
    }
   ],
   "source": [
    "wednesday = ['GREEN', 'YELLOW', 'GREEN', 'BROWN', 'BLUE', 'PINK', 'RED', 'YELLOW', 'ORANGE', 'RED', 'ORANGE', 'RED', 'BLUE', 'BLUE', 'WHITE', 'BLUE', 'BLUE', 'WHITE', 'WHITE']\n",
    "wednesday_f = {}\n",
    "for i in wednesday:\n",
    "    if i in wednesday_f:\n",
    "        wednesday_f[i] += 1\n",
    "    else:\n",
    "        wednesday_f[i] = 1\n",
    "day3 = wednesday_f\n",
    "print (day3)"
   ]
  },
  {
   "cell_type": "code",
   "execution_count": 6,
   "metadata": {},
   "outputs": [
    {
     "name": "stdout",
     "output_type": "stream",
     "text": [
      "{'BLUE': 7, 'GREEN': 2, 'WHITE': 3, 'BROWN': 1, 'PINK': 1, 'YELLOW': 1, 'ORANGE': 2, 'CREAM': 1, 'RED': 1}\n"
     ]
    }
   ],
   "source": [
    "thursday = ['BLUE', 'BLUE', 'GREEN', 'WHITE', 'BLUE', 'BROWN', 'PINK', 'YELLOW', 'ORANGE', 'CREAM', 'ORANGE', 'RED', 'WHITE', 'BLUE', 'WHITE', 'BLUE', 'BLUE', 'BLUE', 'GREEN']\n",
    "thursday_f = {}\n",
    "for i in thursday:\n",
    "    if i in thursday_f:\n",
    "        thursday_f[i] += 1\n",
    "    else:\n",
    "        thursday_f[i] = 1\n",
    "day4 = thursday_f\n",
    "print (day4)"
   ]
  },
  {
   "cell_type": "code",
   "execution_count": 7,
   "metadata": {},
   "outputs": [
    {
     "name": "stdout",
     "output_type": "stream",
     "text": [
      "{'GREEN': 2, 'WHITE': 5, 'BROWN': 1, 'BLUE': 6, 'BLACK': 1, 'ORANGE': 1, 'RED': 3}\n"
     ]
    }
   ],
   "source": [
    "friday = ['GREEN', 'WHITE', 'GREEN', 'BROWN', 'BLUE', 'BLUE', 'BLACK', 'WHITE', 'ORANGE', 'RED', 'RED', 'RED', 'WHITE', 'BLUE', 'WHITE', 'BLUE', 'BLUE', 'BLUE', 'WHITE']\n",
    "friday_f = {}\n",
    "for i in friday:\n",
    "    if i in friday_f:\n",
    "        friday_f[i] += 1\n",
    "    else:\n",
    "        friday_f[i] = 1\n",
    "day5 = friday_f\n",
    "print (day5)"
   ]
  },
  {
   "cell_type": "code",
   "execution_count": 8,
   "metadata": {},
   "outputs": [
    {
     "data": {
      "text/html": [
       "<div>\n",
       "<style scoped>\n",
       "    .dataframe tbody tr th:only-of-type {\n",
       "        vertical-align: middle;\n",
       "    }\n",
       "\n",
       "    .dataframe tbody tr th {\n",
       "        vertical-align: top;\n",
       "    }\n",
       "\n",
       "    .dataframe thead th {\n",
       "        text-align: right;\n",
       "    }\n",
       "</style>\n",
       "<table border=\"1\" class=\"dataframe\">\n",
       "  <thead>\n",
       "    <tr style=\"text-align: right;\">\n",
       "      <th></th>\n",
       "      <th>GREEN</th>\n",
       "      <th>YELLOW</th>\n",
       "      <th>BROWN</th>\n",
       "      <th>BLUE</th>\n",
       "      <th>PINK</th>\n",
       "      <th>ORANGE</th>\n",
       "      <th>CREAM</th>\n",
       "      <th>RED</th>\n",
       "      <th>WHITE</th>\n",
       "      <th>ARSH</th>\n",
       "      <th>BLACK</th>\n",
       "    </tr>\n",
       "  </thead>\n",
       "  <tbody>\n",
       "    <tr>\n",
       "      <th>0</th>\n",
       "      <td>3</td>\n",
       "      <td>2.0</td>\n",
       "      <td>1</td>\n",
       "      <td>6</td>\n",
       "      <td>1.0</td>\n",
       "      <td>2</td>\n",
       "      <td>1.0</td>\n",
       "      <td>1</td>\n",
       "      <td>2</td>\n",
       "      <td>NaN</td>\n",
       "      <td>NaN</td>\n",
       "    </tr>\n",
       "    <tr>\n",
       "      <th>1</th>\n",
       "      <td>1</td>\n",
       "      <td>NaN</td>\n",
       "      <td>2</td>\n",
       "      <td>7</td>\n",
       "      <td>2.0</td>\n",
       "      <td>2</td>\n",
       "      <td>NaN</td>\n",
       "      <td>1</td>\n",
       "      <td>3</td>\n",
       "      <td>1.0</td>\n",
       "      <td>NaN</td>\n",
       "    </tr>\n",
       "    <tr>\n",
       "      <th>2</th>\n",
       "      <td>2</td>\n",
       "      <td>2.0</td>\n",
       "      <td>1</td>\n",
       "      <td>5</td>\n",
       "      <td>1.0</td>\n",
       "      <td>2</td>\n",
       "      <td>NaN</td>\n",
       "      <td>3</td>\n",
       "      <td>3</td>\n",
       "      <td>NaN</td>\n",
       "      <td>NaN</td>\n",
       "    </tr>\n",
       "    <tr>\n",
       "      <th>3</th>\n",
       "      <td>2</td>\n",
       "      <td>1.0</td>\n",
       "      <td>1</td>\n",
       "      <td>7</td>\n",
       "      <td>1.0</td>\n",
       "      <td>2</td>\n",
       "      <td>1.0</td>\n",
       "      <td>1</td>\n",
       "      <td>3</td>\n",
       "      <td>NaN</td>\n",
       "      <td>NaN</td>\n",
       "    </tr>\n",
       "    <tr>\n",
       "      <th>4</th>\n",
       "      <td>2</td>\n",
       "      <td>NaN</td>\n",
       "      <td>1</td>\n",
       "      <td>6</td>\n",
       "      <td>NaN</td>\n",
       "      <td>1</td>\n",
       "      <td>NaN</td>\n",
       "      <td>3</td>\n",
       "      <td>5</td>\n",
       "      <td>NaN</td>\n",
       "      <td>1.0</td>\n",
       "    </tr>\n",
       "  </tbody>\n",
       "</table>\n",
       "</div>"
      ],
      "text/plain": [
       "   GREEN  YELLOW  BROWN  BLUE  PINK  ORANGE  CREAM  RED  WHITE  ARSH  BLACK\n",
       "0      3     2.0      1     6   1.0       2    1.0    1      2   NaN    NaN\n",
       "1      1     NaN      2     7   2.0       2    NaN    1      3   1.0    NaN\n",
       "2      2     2.0      1     5   1.0       2    NaN    3      3   NaN    NaN\n",
       "3      2     1.0      1     7   1.0       2    1.0    1      3   NaN    NaN\n",
       "4      2     NaN      1     6   NaN       1    NaN    3      5   NaN    1.0"
      ]
     },
     "execution_count": 8,
     "metadata": {},
     "output_type": "execute_result"
    }
   ],
   "source": [
    "data = [day1, day2, day3, day4, day5]\n",
    "df = pd.DataFrame.from_dict(data)\n",
    "df"
   ]
  },
  {
   "cell_type": "code",
   "execution_count": 9,
   "metadata": {},
   "outputs": [
    {
     "data": {
      "text/html": [
       "<div>\n",
       "<style scoped>\n",
       "    .dataframe tbody tr th:only-of-type {\n",
       "        vertical-align: middle;\n",
       "    }\n",
       "\n",
       "    .dataframe tbody tr th {\n",
       "        vertical-align: top;\n",
       "    }\n",
       "\n",
       "    .dataframe thead th {\n",
       "        text-align: right;\n",
       "    }\n",
       "</style>\n",
       "<table border=\"1\" class=\"dataframe\">\n",
       "  <thead>\n",
       "    <tr style=\"text-align: right;\">\n",
       "      <th></th>\n",
       "      <th>Days</th>\n",
       "      <th>GREEN</th>\n",
       "      <th>YELLOW</th>\n",
       "      <th>BROWN</th>\n",
       "      <th>BLUE</th>\n",
       "      <th>PINK</th>\n",
       "      <th>ORANGE</th>\n",
       "      <th>CREAM</th>\n",
       "      <th>RED</th>\n",
       "      <th>WHITE</th>\n",
       "      <th>ARSH</th>\n",
       "      <th>BLACK</th>\n",
       "    </tr>\n",
       "  </thead>\n",
       "  <tbody>\n",
       "    <tr>\n",
       "      <th>0</th>\n",
       "      <td>Monday</td>\n",
       "      <td>3</td>\n",
       "      <td>2.0</td>\n",
       "      <td>1</td>\n",
       "      <td>6</td>\n",
       "      <td>1.0</td>\n",
       "      <td>2</td>\n",
       "      <td>1.0</td>\n",
       "      <td>1</td>\n",
       "      <td>2</td>\n",
       "      <td>NaN</td>\n",
       "      <td>NaN</td>\n",
       "    </tr>\n",
       "    <tr>\n",
       "      <th>1</th>\n",
       "      <td>Tuesday</td>\n",
       "      <td>1</td>\n",
       "      <td>NaN</td>\n",
       "      <td>2</td>\n",
       "      <td>7</td>\n",
       "      <td>2.0</td>\n",
       "      <td>2</td>\n",
       "      <td>NaN</td>\n",
       "      <td>1</td>\n",
       "      <td>3</td>\n",
       "      <td>1.0</td>\n",
       "      <td>NaN</td>\n",
       "    </tr>\n",
       "    <tr>\n",
       "      <th>2</th>\n",
       "      <td>Wednesday</td>\n",
       "      <td>2</td>\n",
       "      <td>2.0</td>\n",
       "      <td>1</td>\n",
       "      <td>5</td>\n",
       "      <td>1.0</td>\n",
       "      <td>2</td>\n",
       "      <td>NaN</td>\n",
       "      <td>3</td>\n",
       "      <td>3</td>\n",
       "      <td>NaN</td>\n",
       "      <td>NaN</td>\n",
       "    </tr>\n",
       "    <tr>\n",
       "      <th>3</th>\n",
       "      <td>Thursday</td>\n",
       "      <td>2</td>\n",
       "      <td>1.0</td>\n",
       "      <td>1</td>\n",
       "      <td>7</td>\n",
       "      <td>1.0</td>\n",
       "      <td>2</td>\n",
       "      <td>1.0</td>\n",
       "      <td>1</td>\n",
       "      <td>3</td>\n",
       "      <td>NaN</td>\n",
       "      <td>NaN</td>\n",
       "    </tr>\n",
       "    <tr>\n",
       "      <th>4</th>\n",
       "      <td>Friday</td>\n",
       "      <td>2</td>\n",
       "      <td>NaN</td>\n",
       "      <td>1</td>\n",
       "      <td>6</td>\n",
       "      <td>NaN</td>\n",
       "      <td>1</td>\n",
       "      <td>NaN</td>\n",
       "      <td>3</td>\n",
       "      <td>5</td>\n",
       "      <td>NaN</td>\n",
       "      <td>1.0</td>\n",
       "    </tr>\n",
       "  </tbody>\n",
       "</table>\n",
       "</div>"
      ],
      "text/plain": [
       "        Days  GREEN  YELLOW  BROWN  BLUE  PINK  ORANGE  CREAM  RED  WHITE  \\\n",
       "0     Monday      3     2.0      1     6   1.0       2    1.0    1      2   \n",
       "1    Tuesday      1     NaN      2     7   2.0       2    NaN    1      3   \n",
       "2  Wednesday      2     2.0      1     5   1.0       2    NaN    3      3   \n",
       "3   Thursday      2     1.0      1     7   1.0       2    1.0    1      3   \n",
       "4     Friday      2     NaN      1     6   NaN       1    NaN    3      5   \n",
       "\n",
       "   ARSH  BLACK  \n",
       "0   NaN    NaN  \n",
       "1   1.0    NaN  \n",
       "2   NaN    NaN  \n",
       "3   NaN    NaN  \n",
       "4   NaN    1.0  "
      ]
     },
     "execution_count": 9,
     "metadata": {},
     "output_type": "execute_result"
    }
   ],
   "source": [
    "df.insert(0, \"Days\", ['Monday', 'Tuesday', 'Wednesday', 'Thursday', 'Friday'], True)\n",
    "df"
   ]
  },
  {
   "cell_type": "code",
   "execution_count": 10,
   "metadata": {},
   "outputs": [
    {
     "data": {
      "text/html": [
       "<div>\n",
       "<style scoped>\n",
       "    .dataframe tbody tr th:only-of-type {\n",
       "        vertical-align: middle;\n",
       "    }\n",
       "\n",
       "    .dataframe tbody tr th {\n",
       "        vertical-align: top;\n",
       "    }\n",
       "\n",
       "    .dataframe thead th {\n",
       "        text-align: right;\n",
       "    }\n",
       "</style>\n",
       "<table border=\"1\" class=\"dataframe\">\n",
       "  <thead>\n",
       "    <tr style=\"text-align: right;\">\n",
       "      <th></th>\n",
       "      <th>GREEN</th>\n",
       "      <th>YELLOW</th>\n",
       "      <th>BROWN</th>\n",
       "      <th>BLUE</th>\n",
       "      <th>PINK</th>\n",
       "      <th>ORANGE</th>\n",
       "      <th>CREAM</th>\n",
       "      <th>RED</th>\n",
       "      <th>WHITE</th>\n",
       "      <th>ARSH</th>\n",
       "      <th>BLACK</th>\n",
       "    </tr>\n",
       "    <tr>\n",
       "      <th>Days</th>\n",
       "      <th></th>\n",
       "      <th></th>\n",
       "      <th></th>\n",
       "      <th></th>\n",
       "      <th></th>\n",
       "      <th></th>\n",
       "      <th></th>\n",
       "      <th></th>\n",
       "      <th></th>\n",
       "      <th></th>\n",
       "      <th></th>\n",
       "    </tr>\n",
       "  </thead>\n",
       "  <tbody>\n",
       "    <tr>\n",
       "      <th>Monday</th>\n",
       "      <td>3</td>\n",
       "      <td>2.0</td>\n",
       "      <td>1</td>\n",
       "      <td>6</td>\n",
       "      <td>1.0</td>\n",
       "      <td>2</td>\n",
       "      <td>1.0</td>\n",
       "      <td>1</td>\n",
       "      <td>2</td>\n",
       "      <td>NaN</td>\n",
       "      <td>NaN</td>\n",
       "    </tr>\n",
       "    <tr>\n",
       "      <th>Tuesday</th>\n",
       "      <td>1</td>\n",
       "      <td>NaN</td>\n",
       "      <td>2</td>\n",
       "      <td>7</td>\n",
       "      <td>2.0</td>\n",
       "      <td>2</td>\n",
       "      <td>NaN</td>\n",
       "      <td>1</td>\n",
       "      <td>3</td>\n",
       "      <td>1.0</td>\n",
       "      <td>NaN</td>\n",
       "    </tr>\n",
       "    <tr>\n",
       "      <th>Wednesday</th>\n",
       "      <td>2</td>\n",
       "      <td>2.0</td>\n",
       "      <td>1</td>\n",
       "      <td>5</td>\n",
       "      <td>1.0</td>\n",
       "      <td>2</td>\n",
       "      <td>NaN</td>\n",
       "      <td>3</td>\n",
       "      <td>3</td>\n",
       "      <td>NaN</td>\n",
       "      <td>NaN</td>\n",
       "    </tr>\n",
       "    <tr>\n",
       "      <th>Thursday</th>\n",
       "      <td>2</td>\n",
       "      <td>1.0</td>\n",
       "      <td>1</td>\n",
       "      <td>7</td>\n",
       "      <td>1.0</td>\n",
       "      <td>2</td>\n",
       "      <td>1.0</td>\n",
       "      <td>1</td>\n",
       "      <td>3</td>\n",
       "      <td>NaN</td>\n",
       "      <td>NaN</td>\n",
       "    </tr>\n",
       "    <tr>\n",
       "      <th>Friday</th>\n",
       "      <td>2</td>\n",
       "      <td>NaN</td>\n",
       "      <td>1</td>\n",
       "      <td>6</td>\n",
       "      <td>NaN</td>\n",
       "      <td>1</td>\n",
       "      <td>NaN</td>\n",
       "      <td>3</td>\n",
       "      <td>5</td>\n",
       "      <td>NaN</td>\n",
       "      <td>1.0</td>\n",
       "    </tr>\n",
       "  </tbody>\n",
       "</table>\n",
       "</div>"
      ],
      "text/plain": [
       "           GREEN  YELLOW  BROWN  BLUE  PINK  ORANGE  CREAM  RED  WHITE  ARSH  \\\n",
       "Days                                                                           \n",
       "Monday         3     2.0      1     6   1.0       2    1.0    1      2   NaN   \n",
       "Tuesday        1     NaN      2     7   2.0       2    NaN    1      3   1.0   \n",
       "Wednesday      2     2.0      1     5   1.0       2    NaN    3      3   NaN   \n",
       "Thursday       2     1.0      1     7   1.0       2    1.0    1      3   NaN   \n",
       "Friday         2     NaN      1     6   NaN       1    NaN    3      5   NaN   \n",
       "\n",
       "           BLACK  \n",
       "Days              \n",
       "Monday       NaN  \n",
       "Tuesday      NaN  \n",
       "Wednesday    NaN  \n",
       "Thursday     NaN  \n",
       "Friday       1.0  "
      ]
     },
     "execution_count": 10,
     "metadata": {},
     "output_type": "execute_result"
    }
   ],
   "source": [
    "df = df.set_index('Days')\n",
    "df"
   ]
  },
  {
   "cell_type": "code",
   "execution_count": 11,
   "metadata": {},
   "outputs": [
    {
     "data": {
      "text/html": [
       "<div>\n",
       "<style scoped>\n",
       "    .dataframe tbody tr th:only-of-type {\n",
       "        vertical-align: middle;\n",
       "    }\n",
       "\n",
       "    .dataframe tbody tr th {\n",
       "        vertical-align: top;\n",
       "    }\n",
       "\n",
       "    .dataframe thead th {\n",
       "        text-align: right;\n",
       "    }\n",
       "</style>\n",
       "<table border=\"1\" class=\"dataframe\">\n",
       "  <thead>\n",
       "    <tr style=\"text-align: right;\">\n",
       "      <th></th>\n",
       "      <th>GREEN</th>\n",
       "      <th>YELLOW</th>\n",
       "      <th>BROWN</th>\n",
       "      <th>BLUE</th>\n",
       "      <th>PINK</th>\n",
       "      <th>ORANGE</th>\n",
       "      <th>CREAM</th>\n",
       "      <th>RED</th>\n",
       "      <th>WHITE</th>\n",
       "      <th>ARSH</th>\n",
       "      <th>BLACK</th>\n",
       "    </tr>\n",
       "    <tr>\n",
       "      <th>Days</th>\n",
       "      <th></th>\n",
       "      <th></th>\n",
       "      <th></th>\n",
       "      <th></th>\n",
       "      <th></th>\n",
       "      <th></th>\n",
       "      <th></th>\n",
       "      <th></th>\n",
       "      <th></th>\n",
       "      <th></th>\n",
       "      <th></th>\n",
       "    </tr>\n",
       "  </thead>\n",
       "  <tbody>\n",
       "    <tr>\n",
       "      <th>Monday</th>\n",
       "      <td>3</td>\n",
       "      <td>2.0</td>\n",
       "      <td>1</td>\n",
       "      <td>6</td>\n",
       "      <td>1.0</td>\n",
       "      <td>2</td>\n",
       "      <td>1.0</td>\n",
       "      <td>1</td>\n",
       "      <td>2</td>\n",
       "      <td>0.0</td>\n",
       "      <td>0.0</td>\n",
       "    </tr>\n",
       "    <tr>\n",
       "      <th>Tuesday</th>\n",
       "      <td>1</td>\n",
       "      <td>0.0</td>\n",
       "      <td>2</td>\n",
       "      <td>7</td>\n",
       "      <td>2.0</td>\n",
       "      <td>2</td>\n",
       "      <td>0.0</td>\n",
       "      <td>1</td>\n",
       "      <td>3</td>\n",
       "      <td>1.0</td>\n",
       "      <td>0.0</td>\n",
       "    </tr>\n",
       "    <tr>\n",
       "      <th>Wednesday</th>\n",
       "      <td>2</td>\n",
       "      <td>2.0</td>\n",
       "      <td>1</td>\n",
       "      <td>5</td>\n",
       "      <td>1.0</td>\n",
       "      <td>2</td>\n",
       "      <td>0.0</td>\n",
       "      <td>3</td>\n",
       "      <td>3</td>\n",
       "      <td>0.0</td>\n",
       "      <td>0.0</td>\n",
       "    </tr>\n",
       "    <tr>\n",
       "      <th>Thursday</th>\n",
       "      <td>2</td>\n",
       "      <td>1.0</td>\n",
       "      <td>1</td>\n",
       "      <td>7</td>\n",
       "      <td>1.0</td>\n",
       "      <td>2</td>\n",
       "      <td>1.0</td>\n",
       "      <td>1</td>\n",
       "      <td>3</td>\n",
       "      <td>0.0</td>\n",
       "      <td>0.0</td>\n",
       "    </tr>\n",
       "    <tr>\n",
       "      <th>Friday</th>\n",
       "      <td>2</td>\n",
       "      <td>0.0</td>\n",
       "      <td>1</td>\n",
       "      <td>6</td>\n",
       "      <td>0.0</td>\n",
       "      <td>1</td>\n",
       "      <td>0.0</td>\n",
       "      <td>3</td>\n",
       "      <td>5</td>\n",
       "      <td>0.0</td>\n",
       "      <td>1.0</td>\n",
       "    </tr>\n",
       "  </tbody>\n",
       "</table>\n",
       "</div>"
      ],
      "text/plain": [
       "           GREEN  YELLOW  BROWN  BLUE  PINK  ORANGE  CREAM  RED  WHITE  ARSH  \\\n",
       "Days                                                                           \n",
       "Monday         3     2.0      1     6   1.0       2    1.0    1      2   0.0   \n",
       "Tuesday        1     0.0      2     7   2.0       2    0.0    1      3   1.0   \n",
       "Wednesday      2     2.0      1     5   1.0       2    0.0    3      3   0.0   \n",
       "Thursday       2     1.0      1     7   1.0       2    1.0    1      3   0.0   \n",
       "Friday         2     0.0      1     6   0.0       1    0.0    3      5   0.0   \n",
       "\n",
       "           BLACK  \n",
       "Days              \n",
       "Monday       0.0  \n",
       "Tuesday      0.0  \n",
       "Wednesday    0.0  \n",
       "Thursday     0.0  \n",
       "Friday       1.0  "
      ]
     },
     "execution_count": 11,
     "metadata": {},
     "output_type": "execute_result"
    }
   ],
   "source": [
    "df.replace(np.nan, 0, inplace=True)\n",
    "df"
   ]
  },
  {
   "cell_type": "code",
   "execution_count": 12,
   "metadata": {},
   "outputs": [
    {
     "name": "stdout",
     "output_type": "stream",
     "text": [
      "GREEN     2.0\n",
      "YELLOW    1.0\n",
      "BROWN     1.2\n",
      "BLUE      6.2\n",
      "PINK      1.0\n",
      "ORANGE    1.8\n",
      "CREAM     0.4\n",
      "RED       1.8\n",
      "WHITE     3.2\n",
      "ARSH      0.2\n",
      "BLACK     0.2\n",
      "dtype: float64\n"
     ]
    }
   ],
   "source": [
    "print(df.mean())"
   ]
  },
  {
   "cell_type": "code",
   "execution_count": 13,
   "metadata": {},
   "outputs": [
    {
     "name": "stdout",
     "output_type": "stream",
     "text": [
      "95.0\n"
     ]
    }
   ],
   "source": [
    "df_sum = df.sum().sum()\n",
    "\n",
    "print(df_sum)"
   ]
  },
  {
   "cell_type": "code",
   "execution_count": 14,
   "metadata": {},
   "outputs": [
    {
     "data": {
      "text/plain": [
       "8.0"
      ]
     },
     "execution_count": 14,
     "metadata": {},
     "output_type": "execute_result"
    }
   ],
   "source": [
    "sum_total = 95.0\n",
    "no_of_colors = 11\n",
    "mean = sum_total // no_of_colors\n",
    "mean"
   ]
  },
  {
   "cell_type": "code",
   "execution_count": 15,
   "metadata": {},
   "outputs": [
    {
     "name": "stdout",
     "output_type": "stream",
     "text": [
      "GREEN     10.0\n",
      "YELLOW     5.0\n",
      "BROWN      6.0\n",
      "BLUE      31.0\n",
      "PINK       5.0\n",
      "ORANGE     9.0\n",
      "CREAM      2.0\n",
      "RED        9.0\n",
      "WHITE     16.0\n",
      "ARSH       1.0\n",
      "BLACK      1.0\n",
      "dtype: float64\n"
     ]
    }
   ],
   "source": [
    "sr = df.sum(axis=0)\n",
    "print(sr)"
   ]
  },
  {
   "cell_type": "code",
   "execution_count": 16,
   "metadata": {},
   "outputs": [
    {
     "data": {
      "text/plain": [
       "31.0"
      ]
     },
     "execution_count": 16,
     "metadata": {},
     "output_type": "execute_result"
    }
   ],
   "source": [
    "mode = sr.max()\n",
    "mode"
   ]
  },
  {
   "cell_type": "code",
   "execution_count": 17,
   "metadata": {},
   "outputs": [
    {
     "name": "stdout",
     "output_type": "stream",
     "text": [
      "GREEN     2.0\n",
      "YELLOW    1.0\n",
      "BROWN     1.0\n",
      "BLUE      6.0\n",
      "PINK      1.0\n",
      "ORANGE    2.0\n",
      "CREAM     0.0\n",
      "RED       1.0\n",
      "WHITE     3.0\n",
      "ARSH      0.0\n",
      "BLACK     0.0\n",
      "dtype: float64\n"
     ]
    }
   ],
   "source": [
    "median = df.median()\n",
    "print(median)"
   ]
  },
  {
   "cell_type": "code",
   "execution_count": 18,
   "metadata": {},
   "outputs": [
    {
     "name": "stdout",
     "output_type": "stream",
     "text": [
      "GREEN     0.5\n",
      "YELLOW    1.0\n",
      "BROWN     0.2\n",
      "BLUE      0.7\n",
      "PINK      0.5\n",
      "ORANGE    0.2\n",
      "CREAM     0.3\n",
      "RED       1.2\n",
      "WHITE     1.2\n",
      "ARSH      0.2\n",
      "BLACK     0.2\n",
      "dtype: float64\n"
     ]
    }
   ],
   "source": [
    "variance = df.var()\n",
    "print(variance)"
   ]
  },
  {
   "cell_type": "code",
   "execution_count": 19,
   "metadata": {},
   "outputs": [
    {
     "data": {
      "text/plain": [
       "9"
      ]
     },
     "execution_count": 19,
     "metadata": {},
     "output_type": "execute_result"
    }
   ],
   "source": [
    "p_red = df.RED.sum()\n",
    "p_red"
   ]
  },
  {
   "cell_type": "code",
   "execution_count": 20,
   "metadata": {},
   "outputs": [
    {
     "data": {
      "text/plain": [
       "GREEN     10.0\n",
       "YELLOW     5.0\n",
       "BROWN      6.0\n",
       "BLUE      31.0\n",
       "PINK       5.0\n",
       "ORANGE     9.0\n",
       "CREAM      2.0\n",
       "RED        9.0\n",
       "WHITE     16.0\n",
       "ARSH       1.0\n",
       "BLACK      1.0\n",
       "dtype: float64"
      ]
     },
     "execution_count": 20,
     "metadata": {},
     "output_type": "execute_result"
    }
   ],
   "source": [
    "tot = df.sum()\n",
    "tot"
   ]
  },
  {
   "cell_type": "code",
   "execution_count": 22,
   "metadata": {},
   "outputs": [
    {
     "data": {
      "text/plain": [
       "95.0"
      ]
     },
     "execution_count": 22,
     "metadata": {},
     "output_type": "execute_result"
    }
   ],
   "source": [
    "d = tot.sum()\n",
    "d"
   ]
  },
  {
   "cell_type": "code",
   "execution_count": 23,
   "metadata": {},
   "outputs": [
    {
     "data": {
      "text/plain": [
       "0.0"
      ]
     },
     "execution_count": 23,
     "metadata": {},
     "output_type": "execute_result"
    }
   ],
   "source": [
    "p_red = p_red // d\n",
    "p_red"
   ]
  },
  {
   "cell_type": "code",
   "execution_count": 25,
   "metadata": {},
   "outputs": [
    {
     "data": {
      "text/plain": [
       "0.0"
      ]
     },
     "execution_count": 25,
     "metadata": {},
     "output_type": "execute_result"
    }
   ],
   "source": [
    "9.0 // 95.0"
   ]
  },
  {
   "cell_type": "code",
   "execution_count": 28,
   "metadata": {},
   "outputs": [],
   "source": [
    "def recursive_search(arr, target, start, end):\n",
    "    if start > end:\n",
    "        return None\n",
    "    midpoint = (start + end) // 2\n",
    "    if arr[midpoint] == target:\n",
    "        return midpoint\n",
    "    elif arr[midpoint] > target:\n",
    "        return recursive_search(arr, target, start, midpoint-1)\n",
    "    else:\n",
    "        return recursive_search(arr, target, midpoint+1, end)\n"
   ]
  },
  {
   "cell_type": "code",
   "execution_count": 29,
   "metadata": {},
   "outputs": [
    {
     "name": "stdout",
     "output_type": "stream",
     "text": [
      "5\n"
     ]
    }
   ],
   "source": [
    "arr = [1, 3, 5, 7, 9, 11, 13, 15, 17, 19]\n",
    "target = 11\n",
    "result = recursive_search(arr, target, 0, len(arr)-1)\n",
    "print(result)"
   ]
  },
  {
   "cell_type": "code",
   "execution_count": 31,
   "metadata": {},
   "outputs": [
    {
     "name": "stdout",
     "output_type": "stream",
     "text": [
      "Binary number: 0001\n",
      "Decimal number: 1\n"
     ]
    }
   ],
   "source": [
    "binary_num = ''.join([rd.choice(['0', '1']) for i in range(4)])\n",
    "print(\"Binary number:\", binary_num)\n",
    "decimal_num = int(binary_num, 2)\n",
    "print(\"Decimal number:\", decimal_num)"
   ]
  },
  {
   "cell_type": "code",
   "execution_count": 32,
   "metadata": {},
   "outputs": [
    {
     "ename": "KeyboardInterrupt",
     "evalue": "",
     "output_type": "error",
     "traceback": [
      "\u001b[1;31m---------------------------------------------------------------------------\u001b[0m",
      "\u001b[1;31mKeyboardInterrupt\u001b[0m                         Traceback (most recent call last)",
      "\u001b[1;32mc:\\Users\\User\\Documents\\I.T\\task.ipynb Cell 22\u001b[0m in \u001b[0;36m<cell line: 7>\u001b[1;34m()\u001b[0m\n\u001b[0;32m      <a href='vscode-notebook-cell:/c%3A/Users/User/Documents/I.T/task.ipynb#X36sZmlsZQ%3D%3D?line=5'>6</a>\u001b[0m fib_sum \u001b[39m=\u001b[39m \u001b[39m0\u001b[39m\n\u001b[0;32m      <a href='vscode-notebook-cell:/c%3A/Users/User/Documents/I.T/task.ipynb#X36sZmlsZQ%3D%3D?line=6'>7</a>\u001b[0m \u001b[39mfor\u001b[39;00m i \u001b[39min\u001b[39;00m \u001b[39mrange\u001b[39m(\u001b[39m50\u001b[39m):\n\u001b[1;32m----> <a href='vscode-notebook-cell:/c%3A/Users/User/Documents/I.T/task.ipynb#X36sZmlsZQ%3D%3D?line=7'>8</a>\u001b[0m     fib_sum \u001b[39m+\u001b[39m\u001b[39m=\u001b[39m fibonacci(i)\n\u001b[0;32m     <a href='vscode-notebook-cell:/c%3A/Users/User/Documents/I.T/task.ipynb#X36sZmlsZQ%3D%3D?line=9'>10</a>\u001b[0m \u001b[39mprint\u001b[39m(\u001b[39m\"\u001b[39m\u001b[39mSum of the first 50 Fibonacci numbers:\u001b[39m\u001b[39m\"\u001b[39m, fib_sum)\n",
      "\u001b[1;32mc:\\Users\\User\\Documents\\I.T\\task.ipynb Cell 22\u001b[0m in \u001b[0;36mfibonacci\u001b[1;34m(n)\u001b[0m\n\u001b[0;32m      <a href='vscode-notebook-cell:/c%3A/Users/User/Documents/I.T/task.ipynb#X36sZmlsZQ%3D%3D?line=2'>3</a>\u001b[0m     \u001b[39mreturn\u001b[39;00m n\n\u001b[0;32m      <a href='vscode-notebook-cell:/c%3A/Users/User/Documents/I.T/task.ipynb#X36sZmlsZQ%3D%3D?line=3'>4</a>\u001b[0m \u001b[39melse\u001b[39;00m:\n\u001b[1;32m----> <a href='vscode-notebook-cell:/c%3A/Users/User/Documents/I.T/task.ipynb#X36sZmlsZQ%3D%3D?line=4'>5</a>\u001b[0m     \u001b[39mreturn\u001b[39;00m fibonacci(n\u001b[39m-\u001b[39;49m\u001b[39m1\u001b[39;49m) \u001b[39m+\u001b[39m fibonacci(n\u001b[39m-\u001b[39m\u001b[39m2\u001b[39m)\n",
      "\u001b[1;32mc:\\Users\\User\\Documents\\I.T\\task.ipynb Cell 22\u001b[0m in \u001b[0;36mfibonacci\u001b[1;34m(n)\u001b[0m\n\u001b[0;32m      <a href='vscode-notebook-cell:/c%3A/Users/User/Documents/I.T/task.ipynb#X36sZmlsZQ%3D%3D?line=2'>3</a>\u001b[0m     \u001b[39mreturn\u001b[39;00m n\n\u001b[0;32m      <a href='vscode-notebook-cell:/c%3A/Users/User/Documents/I.T/task.ipynb#X36sZmlsZQ%3D%3D?line=3'>4</a>\u001b[0m \u001b[39melse\u001b[39;00m:\n\u001b[1;32m----> <a href='vscode-notebook-cell:/c%3A/Users/User/Documents/I.T/task.ipynb#X36sZmlsZQ%3D%3D?line=4'>5</a>\u001b[0m     \u001b[39mreturn\u001b[39;00m fibonacci(n\u001b[39m-\u001b[39;49m\u001b[39m1\u001b[39;49m) \u001b[39m+\u001b[39m fibonacci(n\u001b[39m-\u001b[39m\u001b[39m2\u001b[39m)\n",
      "    \u001b[1;31m[... skipping similar frames: fibonacci at line 5 (30 times)]\u001b[0m\n",
      "\u001b[1;32mc:\\Users\\User\\Documents\\I.T\\task.ipynb Cell 22\u001b[0m in \u001b[0;36mfibonacci\u001b[1;34m(n)\u001b[0m\n\u001b[0;32m      <a href='vscode-notebook-cell:/c%3A/Users/User/Documents/I.T/task.ipynb#X36sZmlsZQ%3D%3D?line=2'>3</a>\u001b[0m     \u001b[39mreturn\u001b[39;00m n\n\u001b[0;32m      <a href='vscode-notebook-cell:/c%3A/Users/User/Documents/I.T/task.ipynb#X36sZmlsZQ%3D%3D?line=3'>4</a>\u001b[0m \u001b[39melse\u001b[39;00m:\n\u001b[1;32m----> <a href='vscode-notebook-cell:/c%3A/Users/User/Documents/I.T/task.ipynb#X36sZmlsZQ%3D%3D?line=4'>5</a>\u001b[0m     \u001b[39mreturn\u001b[39;00m fibonacci(n\u001b[39m-\u001b[39;49m\u001b[39m1\u001b[39;49m) \u001b[39m+\u001b[39;49m fibonacci(n\u001b[39m-\u001b[39;49m\u001b[39m2\u001b[39;49m)\n",
      "\u001b[1;31mKeyboardInterrupt\u001b[0m: "
     ]
    }
   ],
   "source": [
    "def fibonacci(n):\n",
    "    if n <= 1:\n",
    "        return n\n",
    "    else:\n",
    "        return fibonacci(n-1) + fibonacci(n-2)\n",
    "fib_sum = 0\n",
    "for i in range(50):\n",
    "    fib_sum += fibonacci(i)\n",
    "    \n",
    "print(\"Sum of the first 50 Fibonacci numbers:\", fib_sum)\n"
   ]
  },
  {
   "cell_type": "code",
   "execution_count": null,
   "metadata": {},
   "outputs": [],
   "source": []
  }
 ],
 "metadata": {
  "kernelspec": {
   "display_name": "Python 3",
   "language": "python",
   "name": "python3"
  },
  "language_info": {
   "codemirror_mode": {
    "name": "ipython",
    "version": 3
   },
   "file_extension": ".py",
   "mimetype": "text/x-python",
   "name": "python",
   "nbconvert_exporter": "python",
   "pygments_lexer": "ipython3",
   "version": "3.9.6"
  },
  "orig_nbformat": 4,
  "vscode": {
   "interpreter": {
    "hash": "cf92aa13fedf815d5c8dd192b8d835913fde3e8bc926b2a0ad6cc74ef2ba3ca2"
   }
  }
 },
 "nbformat": 4,
 "nbformat_minor": 2
}
